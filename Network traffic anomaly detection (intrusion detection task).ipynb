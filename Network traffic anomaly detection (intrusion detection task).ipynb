{
 "cells": [
  {
   "cell_type": "code",
   "execution_count": 4,
   "id": "6489377e-72fd-4b72-91f9-555107aa7c70",
   "metadata": {},
   "outputs": [
    {
     "name": "stdout",
     "output_type": "stream",
     "text": [
      "Requirement already satisfied: keras in c:\\users\\user\\anaconda3\\lib\\site-packages (3.8.0)\n",
      "Requirement already satisfied: absl-py in c:\\users\\user\\anaconda3\\lib\\site-packages (from keras) (2.1.0)\n",
      "Requirement already satisfied: numpy in c:\\users\\user\\anaconda3\\lib\\site-packages (from keras) (1.26.4)\n",
      "Requirement already satisfied: rich in c:\\users\\user\\anaconda3\\lib\\site-packages (from keras) (13.7.1)\n",
      "Requirement already satisfied: namex in c:\\users\\user\\anaconda3\\lib\\site-packages (from keras) (0.0.8)\n",
      "Requirement already satisfied: h5py in c:\\users\\user\\anaconda3\\lib\\site-packages (from keras) (3.11.0)\n",
      "Requirement already satisfied: optree in c:\\users\\user\\anaconda3\\lib\\site-packages (from keras) (0.13.1)\n",
      "Requirement already satisfied: ml-dtypes in c:\\users\\user\\anaconda3\\lib\\site-packages (from keras) (0.4.1)\n",
      "Requirement already satisfied: packaging in c:\\users\\user\\anaconda3\\lib\\site-packages (from keras) (24.1)\n",
      "Requirement already satisfied: typing-extensions>=4.5.0 in c:\\users\\user\\anaconda3\\lib\\site-packages (from optree->keras) (4.11.0)\n",
      "Requirement already satisfied: markdown-it-py>=2.2.0 in c:\\users\\user\\anaconda3\\lib\\site-packages (from rich->keras) (2.2.0)\n",
      "Requirement already satisfied: pygments<3.0.0,>=2.13.0 in c:\\users\\user\\anaconda3\\lib\\site-packages (from rich->keras) (2.15.1)\n",
      "Requirement already satisfied: mdurl~=0.1 in c:\\users\\user\\anaconda3\\lib\\site-packages (from markdown-it-py>=2.2.0->rich->keras) (0.1.0)\n",
      "Note: you may need to restart the kernel to use updated packages.\n"
     ]
    }
   ],
   "source": [
    "pip install --upgrade keras\n"
   ]
  },
  {
   "cell_type": "code",
   "execution_count": 6,
   "id": "6a520a03",
   "metadata": {},
   "outputs": [],
   "source": [
    "import numpy as np\n",
    "import pandas as pd\n",
    "import tensorflow as tf\n",
    "import matplotlib.pyplot as plt\n",
    "import xml.etree.ElementTree as ElTree\n",
    "import re, h5py, itertools, math, glob, zipfile, os\n",
    "from sklearn.preprocessing import LabelEncoder, OneHotEncoder\n",
    "from sklearn.metrics import log_loss, auc, roc_curve\n",
    "from tensorflow.keras import layers\n",
    "from tensorflow.keras.layers import Masking\n",
    "from tensorflow.keras.layers import Dense, LSTM, Dropout, Embedding, TimeDistributed\n",
    "from keras.layers import LSTM\n",
    "from tensorflow.keras.models import Model, Sequential, load_model\n",
    "from tensorflow.keras.utils import to_categorical\n",
    "from tensorflow.python.client import device_lib\n",
    "from lxml import etree\n",
    "from gensim.models import Word2Vec\n",
    "\n",
    "# %matplotlib inline\n",
    "plt.rcParams['figure.figsize'] = (15, 5)\n",
    "plt.style.use('ggplot')\n",
    "seed = 42\n",
    "\n",
    "import warnings\n",
    "warnings.filterwarnings(action = \"ignore\")"
   ]
  },
  {
   "cell_type": "markdown",
   "id": "d67658c7",
   "metadata": {},
   "source": [
    "# Some additional & preparative actions"
   ]
  },
  {
   "cell_type": "code",
   "execution_count": 9,
   "id": "a77b31ad",
   "metadata": {},
   "outputs": [
    {
     "name": "stdout",
     "output_type": "stream",
     "text": [
      "      A     B\n",
      "0 1.235 4.568\n",
      "1 2.346 5.679\n",
      "2 3.457 6.789\n"
     ]
    }
   ],
   "source": [
    "\n",
    "\n",
    "\n",
    "import pandas as pd\n",
    "\n",
    "# Set global float formatting\n",
    "pd.options.display.float_format = '{:.3f}'.format\n",
    "\n",
    "# Example DataFrame\n",
    "df = pd.DataFrame({\n",
    "    'A': [1.234567, 2.345678, 3.456789],\n",
    "    'B': [4.567890, 5.678901, 6.789012]\n",
    "})\n",
    "\n",
    "print(df)\n"
   ]
  },
  {
   "cell_type": "code",
   "execution_count": 10,
   "id": "a86fb1be",
   "metadata": {},
   "outputs": [],
   "source": [
    "def plot_history(history):\n",
    "    loss_list = [s for s in history.history.keys() if 'loss' in s and 'val' not in s]\n",
    "    val_loss_list = [s for s in history.history.keys() if 'loss' in s and 'val' in s]\n",
    "    acc_list = [s for s in history.history.keys() if 'accuracy' in s and 'val' not in s]\n",
    "    val_acc_list = [s for s in history.history.keys() if 'accuracy' in s and 'val' in s]\n",
    "    \n",
    "    plt.figure(figsize = (12, 5), dpi = 100)\n",
    "    COLOR = 'gray'\n",
    "    \n",
    "    plt.rc('legend', fontsize = 14)   # legend fontsize\n",
    "    plt.rc('figure', titlesize = 12)  # fontsize of the figure title\n",
    "        \n",
    "    if len(loss_list) == 0:\n",
    "        print('Loss is missing in history')\n",
    "        return \n",
    "    \n",
    "    ## As loss always exists\n",
    "    epochs = range(1, len(history.history[loss_list[0]]) + 1)\n",
    "    \n",
    "    ## Loss\n",
    "    plt.subplot(1, 2, 1)\n",
    "    plt.subplots_adjust(wspace = 2, hspace = 2)\n",
    "    plt.rcParams['text.color'] = 'black'\n",
    "    plt.rcParams['axes.titlecolor'] = 'black'\n",
    "    plt.rcParams['axes.labelcolor'] = COLOR\n",
    "    plt.rcParams['xtick.color'] = COLOR\n",
    "    plt.rcParams['ytick.color'] = COLOR\n",
    "    for l in loss_list:\n",
    "        plt.plot(epochs, history.history[l], 'b-o',\n",
    "                 label = 'Train (' + str(str(format(history.history[l][-1],'.4f'))+')'))\n",
    "    for l in val_loss_list:\n",
    "        plt.plot(epochs, history.history[l], 'g',\n",
    "                 label = 'Valid (' + str(str(format(history.history[l][-1],'.4f'))+')'))\n",
    "    \n",
    "    plt.title('Loss')\n",
    "    plt.xlabel('Epochs')\n",
    "    plt.legend(facecolor = 'gray', loc = 'best')\n",
    "    plt.grid(True)\n",
    "    plt.tight_layout()\n",
    "    \n",
    "    ## Accuracy\n",
    "    plt.subplot(1, 2, 2)\n",
    "    plt.subplots_adjust(wspace = 2, hspace = 2)\n",
    "    plt.rcParams['text.color'] = 'black'\n",
    "    plt.rcParams['axes.titlecolor'] = 'black'\n",
    "    plt.rcParams['axes.labelcolor'] = COLOR\n",
    "    plt.rcParams['xtick.color'] = COLOR\n",
    "    plt.rcParams['ytick.color'] = COLOR\n",
    "    for l in acc_list:\n",
    "        plt.plot(epochs, history.history[l], 'b-o',\n",
    "                 label = 'Train (' + str(format(history.history[l][-1],'.4f'))+')')\n",
    "    for l in val_acc_list:    \n",
    "        plt.plot(epochs, history.history[l], 'g',\n",
    "                 label = 'Valid (' + str(format(history.history[l][-1],'.4f'))+')')\n",
    "\n",
    "    plt.title('Accuracy')\n",
    "    plt.xlabel('Epochs')\n",
    "    plt.legend(facecolor = 'gray', loc = 'best')\n",
    "    plt.grid(True)\n",
    "    plt.tight_layout()\n",
    "    plt.show()\n",
    "\n",
    "class B_Generator(object):\n",
    "    def __init__(self, BZ, XX, YY, ohe):\n",
    "        self.BZ = BZ\n",
    "        self.n_b = int(math.floor(np.shape(XX)[0] / BZ))\n",
    "        self.b_index = [a * BZ for a in range(0, self.n_b)]\n",
    "        self.XX = XX\n",
    "        self.YY = YY\n",
    "        self.ohe = ohe\n",
    "        \n",
    "    def __iter__(self):\n",
    "        for var_0 in itertools.cycle(self.b_index):\n",
    "            YY = self.YY[var_0 : (var_0 + self.BZ)]\n",
    "            ohe_Y = self.ohe.transform(YY.reshape(len(YY), 1))\n",
    "            yield (self.XX[var_0 : (var_0 + self.BZ),], ohe_Y)"
   ]
  },
  {
   "cell_type": "markdown",
   "id": "0a204b9a",
   "metadata": {},
   "source": [
    "# Reading the Dataset\n"
   ]
  },
  {
   "cell_type": "code",
   "execution_count": 8,
   "id": "1f6059f0",
   "metadata": {},
   "outputs": [
    {
     "name": "stdout",
     "output_type": "stream",
     "text": [
      "File TestbedSunJun13Flows.xml has been read\n"
     ]
    }
   ],
   "source": [
    "number = 2\n",
    "\n",
    "if zipfile.is_zipfile('DataSets.zip'):\n",
    "  file_1 = zipfile.ZipFile('DataSets.zip', 'r')\n",
    "else:\n",
    "  print('Type file isn`t ZIP')\n",
    "\n",
    "name_dataset = file_1.namelist()[number]\n",
    "file_1.extract(name_dataset)\n",
    "print(\"File\", name_dataset, \"has been read\")"
   ]
  },
  {
   "cell_type": "markdown",
   "id": "015e649d",
   "metadata": {},
   "source": [
    "# Dataset manipulations\n",
    "\n",
    "This code section will help us to make the following actions:\n",
    "\n",
    "parse the unzipped file of the dataset from XML\n",
    "convert it to DataFrame to make it more convenient to use\n",
    "delete some redundant columns from the DataFrame\n",
    "check this DataFrame for data duplicates\n",
    "sort the values of the dataset\n",
    "add two additional columns\n",
    "rename the columns which have quite long names\n"
   ]
  },
  {
   "cell_type": "code",
   "execution_count": 15,
   "id": "c27e37f0",
   "metadata": {},
   "outputs": [
    {
     "name": "stdout",
     "output_type": "stream",
     "text": [
      "Using XML file: extracted_datasets\\TestbedMonJun14Flows.xml\n",
      "Preparation process has been finished\n"
     ]
    }
   ],
   "source": [
    "import zipfile\n",
    "import os\n",
    "import xml.etree.ElementTree as ElTree\n",
    "import pandas as pd\n",
    "import numpy as np\n",
    "\n",
    "# Step 1: Extract the ZIP file\n",
    "zip_path = \"Datasets.zip\"  # Path to your ZIP file\n",
    "extract_to = \"extracted_datasets\"  # Directory to extract the files\n",
    "\n",
    "with zipfile.ZipFile(zip_path, 'r') as zip_ref:\n",
    "    zip_ref.extractall(extract_to)\n",
    "\n",
    "# Step 2: Locate the XML file\n",
    "xml_files = [f for f in os.listdir(extract_to) if f.endswith('.xml')]\n",
    "if xml_files:\n",
    "    name_dataset = os.path.join(extract_to, xml_files[0])\n",
    "    print(f\"Using XML file: {name_dataset}\")\n",
    "else:\n",
    "    raise FileNotFoundError(\"No XML files found in the extracted ZIP.\")\n",
    "\n",
    "# Step 3: Parse the XML file\n",
    "tree_set = ElTree.parse(name_dataset)\n",
    "root_tree_set = tree_set.getroot()\n",
    "\n",
    "result = []\n",
    "\n",
    "# Extract variable from the root tree's first item's attribute\n",
    "var_1 = root_tree_set.items()[0][1][:-4]\n",
    "\n",
    "# Process XML nodes and build the result list\n",
    "for item in root_tree_set.findall(var_1):\n",
    "    result.append({node.tag: node.text for node in item.iter()})\n",
    "\n",
    "# Convert the result to a DataFrame\n",
    "dSET = pd.DataFrame(result)\n",
    "\n",
    "# DataFrame processing\n",
    "dSET = dSET.drop(dSET.columns[[0]], axis=1)\n",
    "dSET = dSET.drop_duplicates()\n",
    "dSET = dSET.sort_values('startDateTime')\n",
    "\n",
    "# Create a new column for sequence\n",
    "dSET['IPs_sequence'] = dSET['source'] + '_' + dSET['destination'] + '_' + dSET['startDateTime'].str[:13]\n",
    "\n",
    "# Create a new column for port resolution\n",
    "dSET['res_port'] = np.where(dSET.destinationPort <= dSET.sourcePort,\n",
    "                            dSET['destinationPort'],\n",
    "                            dSET['sourcePort'])\n",
    "\n",
    "# Rename columns for convenience\n",
    "dSET = dSET.rename(columns={\n",
    "    'totalSourceBytes': 'totSB',\n",
    "    'totalDestinationBytes': 'totDB',\n",
    "    'totalDestinationPackets': 'totDP',\n",
    "    'totalSourcePackets': 'totSP',\n",
    "    'sourcePayloadAsBase64': 'sourB64',\n",
    "    'sourcePayloadAsUTF': 'sourUTF',\n",
    "    'destinationPayloadAsBase64': 'destB64',\n",
    "    'destinationPayloadAsUTF': 'destUTF',\n",
    "    'direction': 'direct',\n",
    "    'sourceTCPFlagsDescription': 'sourTCPFd',\n",
    "    'destinationTCPFlagsDescription': 'destTCPFd',\n",
    "    'protocolName': 'pName',\n",
    "    'sourcePort': 'sPort',\n",
    "    'destination': 'dest',\n",
    "    'destinationPort': 'dPort'\n",
    "})\n",
    "\n",
    "print(\"Preparation process has been finished\")\n"
   ]
  },
  {
   "cell_type": "code",
   "execution_count": 16,
   "id": "40184a46",
   "metadata": {},
   "outputs": [
    {
     "data": {
      "text/plain": [
       "((171350, 21),\n",
       " Index(['appName', 'totSB', 'totDB', 'totDP', 'totSP', 'sourB64', 'destB64',\n",
       "        'destUTF', 'direct', 'sourTCPFd', 'destTCPFd', 'source', 'pName',\n",
       "        'sPort', 'dest', 'dPort', 'startDateTime', 'stopDateTime', 'Tag',\n",
       "        'IPs_sequence', 'res_port'],\n",
       "       dtype='object'))"
      ]
     },
     "execution_count": 16,
     "metadata": {},
     "output_type": "execute_result"
    }
   ],
   "source": [
    "dSET.shape, dSET.columns"
   ]
  },
  {
   "cell_type": "markdown",
   "id": "1308f1c6-c926-40ae-9dc5-55eac3ac092a",
   "metadata": {},
   "source": [
    "The dataset contains a lot of objects (rows) depending on a selected file, for each of which 20 features are set (columns), including 1 target feature (Tag) and two additional columns (IPs_sequence and res_port).\n",
    "\n",
    "\n",
    "\n",
    "\n",
    "\n",
    "\n",
    "\n",
    "Input features (column names):\n",
    "\n",
    "appName - name of the application that participated in this data collection.\n",
    "\n",
    "totalSourceBytes, totSB - the amount of data received in bytes from Source.\n",
    "\n",
    "totalDestinationBytes, totDB - the amount of data sent in bytes to Destination.\n",
    "\n",
    "totalDestinationPackets, totDP - the amount of data sent in packets to Destination.\n",
    "\n",
    "totalSourcePackets, totSP - the amount of data received in packets from Source.\n",
    "\n",
    "sourcePayloadAsBase64, sourB64 - source payload in Base64 code.\n",
    "\n",
    "sourcePayloadAsUTF, sourUTF - source payload in another UTF-8 (Unicode Transformation Format) 8-bit code.\n",
    "\n",
    "destinationPayloadAsBase64, destB64 - destination payload in Base64 code.\n",
    "\n",
    "destinationPayloadAsUTF, destUTF – destination payload in another UTF-8 (Unicode Transformation Format) 8-bit code.\n",
    "\n",
    "direction, direct - data transferring direction, for instance, local-to-local (L2L), local-to-remote (L2R), remote-to-local (R2L), remote-to-remote (R2R).\n",
    "\n",
    "sourceTCPFlagsDescription, sourTCPFd - sources description of the TCP flags, for instance, ACKnowledgement, A: flag is used to acknowledge the \n",
    "\n",
    "successful receipt of packets; Push, P flag, like the Urgent flag: exists to ensure that the data is given the priority (that it deserves) and is \n",
    "\n",
    "processed at the sending or receiving end; Final, F flag: available is the FIN flag, standing for the word FINished, etc.\n",
    "\n",
    "destinationTCPFlagsDescription, destTCPFd - destination description of the TCP flags, description see above.\n",
    "\n",
    "source – source IP-address.\n",
    "\n",
    "protocolName, pName – name of used protocol.\n",
    "\n",
    "sourcePort, sPort – number of source port.\n",
    "\n",
    "desctination, dest – destination IP-address.\n",
    "\n",
    "desctinationPort, dPort – number of destination port.\n",
    "\n",
    "startDateTime, stopDateTime – date & time of start and stop of data collection process.\n",
    "\n",
    "Tag – a feature (desired target) value that will be used for prediction."
   ]
  },
  {
   "cell_type": "code",
   "execution_count": 17,
   "id": "c88b76e3",
   "metadata": {},
   "outputs": [
    {
     "data": {
      "text/html": [
       "<div>\n",
       "<style scoped>\n",
       "    .dataframe tbody tr th:only-of-type {\n",
       "        vertical-align: middle;\n",
       "    }\n",
       "\n",
       "    .dataframe tbody tr th {\n",
       "        vertical-align: top;\n",
       "    }\n",
       "\n",
       "    .dataframe thead th {\n",
       "        text-align: right;\n",
       "    }\n",
       "</style>\n",
       "<table border=\"1\" class=\"dataframe\">\n",
       "  <thead>\n",
       "    <tr style=\"text-align: right;\">\n",
       "      <th></th>\n",
       "      <th>appName</th>\n",
       "      <th>totSB</th>\n",
       "      <th>totDB</th>\n",
       "      <th>totDP</th>\n",
       "      <th>totSP</th>\n",
       "      <th>sourB64</th>\n",
       "      <th>destB64</th>\n",
       "      <th>destUTF</th>\n",
       "      <th>direct</th>\n",
       "      <th>sourTCPFd</th>\n",
       "      <th>...</th>\n",
       "      <th>source</th>\n",
       "      <th>pName</th>\n",
       "      <th>sPort</th>\n",
       "      <th>dest</th>\n",
       "      <th>dPort</th>\n",
       "      <th>startDateTime</th>\n",
       "      <th>stopDateTime</th>\n",
       "      <th>Tag</th>\n",
       "      <th>IPs_sequence</th>\n",
       "      <th>res_port</th>\n",
       "    </tr>\n",
       "  </thead>\n",
       "  <tbody>\n",
       "    <tr>\n",
       "      <th>0</th>\n",
       "      <td>Unknown_UDP</td>\n",
       "      <td>16076</td>\n",
       "      <td>0</td>\n",
       "      <td>0</td>\n",
       "      <td>178</td>\n",
       "      <td>None</td>\n",
       "      <td>None</td>\n",
       "      <td>None</td>\n",
       "      <td>L2R</td>\n",
       "      <td>N/A</td>\n",
       "      <td>...</td>\n",
       "      <td>192.168.5.122</td>\n",
       "      <td>udp_ip</td>\n",
       "      <td>5353</td>\n",
       "      <td>224.0.0.251</td>\n",
       "      <td>5353</td>\n",
       "      <td>2010-06-13T23:57:19</td>\n",
       "      <td>2010-06-14T00:11:23</td>\n",
       "      <td>Normal</td>\n",
       "      <td>192.168.5.122_224.0.0.251_2010-06-13T23</td>\n",
       "      <td>5353</td>\n",
       "    </tr>\n",
       "    <tr>\n",
       "      <th>1</th>\n",
       "      <td>HTTPImageTransfer</td>\n",
       "      <td>384</td>\n",
       "      <td>0</td>\n",
       "      <td>0</td>\n",
       "      <td>6</td>\n",
       "      <td>None</td>\n",
       "      <td>None</td>\n",
       "      <td>None</td>\n",
       "      <td>L2R</td>\n",
       "      <td>F,A</td>\n",
       "      <td>...</td>\n",
       "      <td>192.168.2.111</td>\n",
       "      <td>tcp_ip</td>\n",
       "      <td>4435</td>\n",
       "      <td>206.217.198.186</td>\n",
       "      <td>80</td>\n",
       "      <td>2010-06-13T23:58:23</td>\n",
       "      <td>2010-06-14T00:01:24</td>\n",
       "      <td>Normal</td>\n",
       "      <td>192.168.2.111_206.217.198.186_2010-06-13T23</td>\n",
       "      <td>4435</td>\n",
       "    </tr>\n",
       "    <tr>\n",
       "      <th>2</th>\n",
       "      <td>DNS</td>\n",
       "      <td>171</td>\n",
       "      <td>642</td>\n",
       "      <td>4</td>\n",
       "      <td>2</td>\n",
       "      <td>None</td>\n",
       "      <td>None</td>\n",
       "      <td>None</td>\n",
       "      <td>L2L</td>\n",
       "      <td>N/A</td>\n",
       "      <td>...</td>\n",
       "      <td>192.168.4.119</td>\n",
       "      <td>udp_ip</td>\n",
       "      <td>4428</td>\n",
       "      <td>192.168.5.122</td>\n",
       "      <td>53</td>\n",
       "      <td>2010-06-13T23:58:31</td>\n",
       "      <td>2010-06-13T23:59:25</td>\n",
       "      <td>Normal</td>\n",
       "      <td>192.168.4.119_192.168.5.122_2010-06-13T23</td>\n",
       "      <td>4428</td>\n",
       "    </tr>\n",
       "    <tr>\n",
       "      <th>3</th>\n",
       "      <td>HTTPImageTransfer</td>\n",
       "      <td>384</td>\n",
       "      <td>0</td>\n",
       "      <td>0</td>\n",
       "      <td>6</td>\n",
       "      <td>None</td>\n",
       "      <td>None</td>\n",
       "      <td>None</td>\n",
       "      <td>L2R</td>\n",
       "      <td>F,A</td>\n",
       "      <td>...</td>\n",
       "      <td>192.168.4.119</td>\n",
       "      <td>tcp_ip</td>\n",
       "      <td>3639</td>\n",
       "      <td>219.94.203.105</td>\n",
       "      <td>80</td>\n",
       "      <td>2010-06-13T23:58:31</td>\n",
       "      <td>2010-06-14T00:00:58</td>\n",
       "      <td>Normal</td>\n",
       "      <td>192.168.4.119_219.94.203.105_2010-06-13T23</td>\n",
       "      <td>3639</td>\n",
       "    </tr>\n",
       "    <tr>\n",
       "      <th>4</th>\n",
       "      <td>HTTPImageTransfer</td>\n",
       "      <td>186</td>\n",
       "      <td>128</td>\n",
       "      <td>2</td>\n",
       "      <td>2</td>\n",
       "      <td>None</td>\n",
       "      <td>None</td>\n",
       "      <td>None</td>\n",
       "      <td>L2R</td>\n",
       "      <td>F,P,A</td>\n",
       "      <td>...</td>\n",
       "      <td>192.168.4.119</td>\n",
       "      <td>tcp_ip</td>\n",
       "      <td>3641</td>\n",
       "      <td>98.137.80.50</td>\n",
       "      <td>80</td>\n",
       "      <td>2010-06-13T23:58:31</td>\n",
       "      <td>2010-06-13T23:59:26</td>\n",
       "      <td>Normal</td>\n",
       "      <td>192.168.4.119_98.137.80.50_2010-06-13T23</td>\n",
       "      <td>3641</td>\n",
       "    </tr>\n",
       "  </tbody>\n",
       "</table>\n",
       "<p>5 rows × 21 columns</p>\n",
       "</div>"
      ],
      "text/plain": [
       "             appName  totSB totDB totDP totSP sourB64 destB64 destUTF direct  \\\n",
       "0        Unknown_UDP  16076     0     0   178    None    None    None    L2R   \n",
       "1  HTTPImageTransfer    384     0     0     6    None    None    None    L2R   \n",
       "2                DNS    171   642     4     2    None    None    None    L2L   \n",
       "3  HTTPImageTransfer    384     0     0     6    None    None    None    L2R   \n",
       "4  HTTPImageTransfer    186   128     2     2    None    None    None    L2R   \n",
       "\n",
       "  sourTCPFd  ...         source   pName sPort             dest dPort  \\\n",
       "0       N/A  ...  192.168.5.122  udp_ip  5353      224.0.0.251  5353   \n",
       "1       F,A  ...  192.168.2.111  tcp_ip  4435  206.217.198.186    80   \n",
       "2       N/A  ...  192.168.4.119  udp_ip  4428    192.168.5.122    53   \n",
       "3       F,A  ...  192.168.4.119  tcp_ip  3639   219.94.203.105    80   \n",
       "4     F,P,A  ...  192.168.4.119  tcp_ip  3641     98.137.80.50    80   \n",
       "\n",
       "         startDateTime         stopDateTime     Tag  \\\n",
       "0  2010-06-13T23:57:19  2010-06-14T00:11:23  Normal   \n",
       "1  2010-06-13T23:58:23  2010-06-14T00:01:24  Normal   \n",
       "2  2010-06-13T23:58:31  2010-06-13T23:59:25  Normal   \n",
       "3  2010-06-13T23:58:31  2010-06-14T00:00:58  Normal   \n",
       "4  2010-06-13T23:58:31  2010-06-13T23:59:26  Normal   \n",
       "\n",
       "                                  IPs_sequence res_port  \n",
       "0      192.168.5.122_224.0.0.251_2010-06-13T23     5353  \n",
       "1  192.168.2.111_206.217.198.186_2010-06-13T23     4435  \n",
       "2    192.168.4.119_192.168.5.122_2010-06-13T23     4428  \n",
       "3   192.168.4.119_219.94.203.105_2010-06-13T23     3639  \n",
       "4     192.168.4.119_98.137.80.50_2010-06-13T23     3641  \n",
       "\n",
       "[5 rows x 21 columns]"
      ]
     },
     "execution_count": 17,
     "metadata": {},
     "output_type": "execute_result"
    }
   ],
   "source": [
    "dSET.head(5)"
   ]
  },
  {
   "cell_type": "markdown",
   "id": "d2a513cf-bba5-46da-9e62-b594cd080b0e",
   "metadata": {},
   "source": [
    "## Main pipeline\n"
   ]
  },
  {
   "cell_type": "markdown",
   "id": "a0398348-9f8d-40a2-a0e2-b33d428b1c84",
   "metadata": {},
   "source": [
    "**I stage. Keys building.\n",
    "\n",
    "Here you will build a set of keys by several columns and with the help of groupby method. Thus, we will count the number of unique attacks and form a sequence for the further research. Moreover, we will select one port by a boundary 10000 (i.e. if the port number is less than 10 000) and will use it in the method groupby."
   ]
  },
  {
   "cell_type": "code",
   "execution_count": 19,
   "id": "e3318571-0b55-417a-ac0f-afb9d157da79",
   "metadata": {},
   "outputs": [
    {
     "name": "stdout",
     "output_type": "stream",
     "text": [
      "Stage I. Keys building\n",
      "\n",
      "Unique keys:\n",
      "Tag         22658\n",
      "res_port    22658\n",
      "dtype: int64\n"
     ]
    }
   ],
   "source": [
    "## Build the sets (keys and sequences) in hour slices\n",
    "print(\"Stage I. Keys building\\n\")\n",
    "key = dSET.groupby('IPs_sequence')[['Tag', 'res_port']].agg({\"Tag\": lambda var_2: \"%s\" % ','.join([var_3 for var_3 in var_2]),\n",
    "          \"res_port\" :lambda var_2: \"%s\" % ','.join([str(var_3) if int(var_3) < 10000 else \"10000\" for var_3 in var_2])})\n",
    "\n",
    "print(\"Unique keys:\\n\" + str(key.count()))\n",
    "attacks = [var_4.split(\",\") for var_4 in key.Tag.tolist()]\n",
    "sequences = [var_4.split(\",\") for var_4 in key.res_port.tolist()]"
   ]
  },
  {
   "cell_type": "markdown",
   "id": "d3e025aa-72ab-474e-b173-a82b46a0c1b5",
   "metadata": {},
   "source": [
    "## II stage. Label encoding.\n",
    "On this stage, you will form two sets: the number of unique tokens for the labels encoding process and the number of sequences. After this step, we will collapse our sequences into one sequence by the method zip."
   ]
  },
  {
   "cell_type": "code",
   "execution_count": 20,
   "id": "0dfd3065-cb95-42ad-a0bd-1c0295b7907a",
   "metadata": {},
   "outputs": [
    {
     "name": "stdout",
     "output_type": "stream",
     "text": [
      "Stage II. Label encoding\n",
      "\n",
      "Number of unique tokens : 4201\n",
      "Number of sequences : 22658\n"
     ]
    }
   ],
   "source": [
    "print(\"Stage II. Label encoding\\n\")\n",
    "U_tokens = list(set([var_5 for var_6 in sequences for var_5 in var_6]))\n",
    "print(\"Number of unique tokens :\", len(U_tokens))\n",
    "LE = LabelEncoder().fit(U_tokens)\n",
    "sequences = [LE.transform(var_7).tolist() for var_7 in sequences]\n",
    "sequences = [[var_6 + 1 for var_6 in var_5] for var_5 in sequences]\n",
    "print(\"Number of sequences :\", len(sequences))\n",
    "sequence_attack = zip(attacks, sequences)"
   ]
  },
  {
   "cell_type": "markdown",
   "id": "5851e0b8-831c-4774-8c42-bd8120cb5c03",
   "metadata": {},
   "source": [
    "## III stage. Sequences generating for the future model.\n",
    "    \n",
    "On this stage, you will form some additional sets which we can use to form standard X & Y sets for the further training process of our neuronet. Also, we set the size of the primary sequence.\n",
    "\n",
    "By the help of the input number that you will enter below, you will define the size of the primary sequence. The number has to be in the range from 10 to 20, you can pick up the best value to obtain the best model."
   ]
  },
  {
   "cell_type": "code",
   "execution_count": 22,
   "id": "6ad12dba-fe6d-4a1c-81f8-f2de6903986e",
   "metadata": {},
   "outputs": [
    {
     "name": "stdout",
     "output_type": "stream",
     "text": [
      "Stage III. Sequences generating for the future model\n",
      "\n",
      "Length of the primary sequence : 10\n",
      "Length of X & Y sets : 171350\n"
     ]
    }
   ],
   "source": [
    "print(\"Stage III. Sequences generating for the future model\\n\")\n",
    "var_8 = np.float32(0)\n",
    "len_sequence = len_sequence = 10 # it's just an example\n",
    "print(\"Length of the primary sequence :\", len_sequence)\n",
    "seq_IDX, seq_X, seq_Y, seq_ATT = [], [], [], []\n",
    "for var_10, (var_11, var_12) in enumerate(sequence_attack):\n",
    "    sequence_1 = [np.float32(0)] * (len_sequence) + var_12\n",
    "    sequence_2 = [np.float32(0)] * (len_sequence) + var_11\n",
    "    for var_9 in range(len_sequence, len(sequence_1)):\n",
    "        sequence_3 = sequence_1[(var_9 - len_sequence):(var_9)]\n",
    "        var_14 = []\n",
    "        for var_13 in sequence_3:\n",
    "            try:\n",
    "                var_14.append(var_13)\n",
    "            except:\n",
    "                var_14.append(var_8)\n",
    "        seq_X.append(var_14)\n",
    "        seq_Y.append(sequence_1[var_9])\n",
    "        seq_IDX.append(var_10)\n",
    "        seq_ATT.append(sequence_2[var_9])\n",
    "print(\"Length of X & Y sets :\", len(seq_X))"
   ]
  },
  {
   "cell_type": "markdown",
   "id": "2fb4c2cd-bdf9-48f2-89bf-229001e46d25",
   "metadata": {},
   "source": [
    "## IV stage. One-hot-encoder initializing.\n",
    "\n",
    "This section is dedicated to one-hot encoding. The advantage of One-Hot-Encoding is that the result is binary, not ordinal, and that everything is in orthogonal vector space. The downside is that the space can quickly explode for high power of the function and you start to fight the curse of dimensionality. By default, OneHotEncoder converts the data to a sparse matrix so as not to waste memory on storing numerous zeroes."
   ]
  },
  {
   "cell_type": "code",
   "execution_count": 25,
   "id": "aaa76f00-6746-492f-be1b-56cd2a95b221",
   "metadata": {},
   "outputs": [
    {
     "name": "stdout",
     "output_type": "stream",
     "text": [
      "Stage IV. One-hot-encoder initializing\n",
      "\n",
      "Dimensionality size of set X : (171350, 10)\n"
     ]
    }
   ],
   "source": [
    "from sklearn.preprocessing import OneHotEncoder\n",
    "import numpy as np\n",
    "\n",
    "print(\"Stage IV. One-hot-encoder initializing\\n\")\n",
    "OHE = OneHotEncoder(sparse_output=False, categories='auto').fit(np.unique(seq_Y).reshape(-1, 1))\n",
    "\n",
    "X = np.array(seq_X)\n",
    "print(\"Dimensionality size of set X :\", X.shape)\n"
   ]
  },
  {
   "cell_type": "markdown",
   "id": "5f70f286-d10e-4866-b9ee-5154d064cb55",
   "metadata": {},
   "source": [
    "## V stage. Model building.\n",
    "\n",
    "You are to create your own model at this stage.\n",
    "\n",
    "The first layer of the model is Embedding layer, which can be used to create dense encoding of words (in our case it's 100 words) based on the input size of the defined vocabulary (in our case it's number of unique tokens + 1). Typically, sparse and dense word encodings denote coding efficiency.\n",
    "\n",
    "Further, we use a few (you can change this number) pairs of layers: bidirectional LSTM & Dropout. You can choose the number of layers pairs yourself.\n",
    "\n",
    "Using bidirectional LSTM will run your input in two ways: one from the past to the future and one from the future to the past (backwards). This distinguishes this approach from unidirectional LSTM which works in the opposite direction so you save information from the future. Thus, by using the two hidden states together, you can save information from both the past and the future at any time.\n",
    "\n",
    "Dropout layer is used in neural networks to solve the problem of overfitting. Networks for training are obtained by dropping out neurons with probability p, so the probability that a neuron will remain in the network is 1 - p.\n",
    "\n",
    "Dense layer is an ordinary tightly bonded layer of the neural network, where each neuron is connected to all inputs."
   ]
  },
  {
   "cell_type": "code",
   "execution_count": 27,
   "id": "b6ee6e56-a0eb-4439-ba90-1d78f1a63066",
   "metadata": {},
   "outputs": [
    {
     "name": "stdout",
     "output_type": "stream",
     "text": [
      "Stage V. Model building\n",
      "\n"
     ]
    }
   ],
   "source": [
    "print(\"Stage V. Model building\\n\")\n",
    "drop_level = 0.35 # You can choose a drop level yourself\n",
    "N_neurons = 50   # You can choose the number of neurons yourself\n",
    "\n",
    "model = Sequential()\n",
    "model.add(layers.Embedding(output_dim = 100,\n",
    "                    input_dim = len(U_tokens) + 1,\n",
    "                    mask_zero = True))\n",
    "\n",
    "model.add(layers.Bidirectional(LSTM(N_neurons, return_sequences = True)))\n",
    "model.add(layers.Dropout(drop_level))\n",
    "\n",
    "# model.add(layers.Bidirectional(LSTM(N_neurons, activation = \"relu\", return_sequences = False))\n",
    "# model.add(layers.Dropout(drop_level))\n",
    "\n",
    "model.add(layers.Bidirectional(LSTM(N_neurons, activation = \"relu\", return_sequences = False)))\n",
    "model.add(layers.Dropout(drop_level))\n",
    "\n",
    "model.add(layers.Dense(N_neurons, activation = \"linear\"))\n",
    "model.add(layers.Dropout(drop_level))\n",
    "\n",
    "model.add(layers.Dense(len(U_tokens), activation = \"softmax\"))\n",
    "\n",
    "##YOUR CODE GOES HERE##.summary()"
   ]
  },
  {
   "cell_type": "code",
   "execution_count": 28,
   "id": "6169bc83-a345-46b7-a63c-f0c61f47de38",
   "metadata": {},
   "outputs": [
    {
     "data": {
      "text/html": [
       "<pre style=\"white-space:pre;overflow-x:auto;line-height:normal;font-family:Menlo,'DejaVu Sans Mono',consolas,'Courier New',monospace\"><span style=\"font-weight: bold\">Model: \"sequential\"</span>\n",
       "</pre>\n"
      ],
      "text/plain": [
       "\u001b[1mModel: \"sequential\"\u001b[0m\n"
      ]
     },
     "metadata": {},
     "output_type": "display_data"
    },
    {
     "data": {
      "text/html": [
       "<pre style=\"white-space:pre;overflow-x:auto;line-height:normal;font-family:Menlo,'DejaVu Sans Mono',consolas,'Courier New',monospace\">┏━━━━━━━━━━━━━━━━━━━━━━━━━━━━━━━━━━━━━━┳━━━━━━━━━━━━━━━━━━━━━━━━━━━━━┳━━━━━━━━━━━━━━━━━┓\n",
       "┃<span style=\"font-weight: bold\"> Layer (type)                         </span>┃<span style=\"font-weight: bold\"> Output Shape                </span>┃<span style=\"font-weight: bold\">         Param # </span>┃\n",
       "┡━━━━━━━━━━━━━━━━━━━━━━━━━━━━━━━━━━━━━━╇━━━━━━━━━━━━━━━━━━━━━━━━━━━━━╇━━━━━━━━━━━━━━━━━┩\n",
       "│ embedding (<span style=\"color: #0087ff; text-decoration-color: #0087ff\">Embedding</span>)                │ ?                           │     <span style=\"color: #00af00; text-decoration-color: #00af00\">0</span> (unbuilt) │\n",
       "├──────────────────────────────────────┼─────────────────────────────┼─────────────────┤\n",
       "│ bidirectional (<span style=\"color: #0087ff; text-decoration-color: #0087ff\">Bidirectional</span>)        │ ?                           │     <span style=\"color: #00af00; text-decoration-color: #00af00\">0</span> (unbuilt) │\n",
       "├──────────────────────────────────────┼─────────────────────────────┼─────────────────┤\n",
       "│ dropout (<span style=\"color: #0087ff; text-decoration-color: #0087ff\">Dropout</span>)                    │ ?                           │               <span style=\"color: #00af00; text-decoration-color: #00af00\">0</span> │\n",
       "├──────────────────────────────────────┼─────────────────────────────┼─────────────────┤\n",
       "│ bidirectional_1 (<span style=\"color: #0087ff; text-decoration-color: #0087ff\">Bidirectional</span>)      │ ?                           │     <span style=\"color: #00af00; text-decoration-color: #00af00\">0</span> (unbuilt) │\n",
       "├──────────────────────────────────────┼─────────────────────────────┼─────────────────┤\n",
       "│ dropout_1 (<span style=\"color: #0087ff; text-decoration-color: #0087ff\">Dropout</span>)                  │ ?                           │               <span style=\"color: #00af00; text-decoration-color: #00af00\">0</span> │\n",
       "├──────────────────────────────────────┼─────────────────────────────┼─────────────────┤\n",
       "│ dense (<span style=\"color: #0087ff; text-decoration-color: #0087ff\">Dense</span>)                        │ ?                           │     <span style=\"color: #00af00; text-decoration-color: #00af00\">0</span> (unbuilt) │\n",
       "├──────────────────────────────────────┼─────────────────────────────┼─────────────────┤\n",
       "│ dropout_2 (<span style=\"color: #0087ff; text-decoration-color: #0087ff\">Dropout</span>)                  │ ?                           │               <span style=\"color: #00af00; text-decoration-color: #00af00\">0</span> │\n",
       "├──────────────────────────────────────┼─────────────────────────────┼─────────────────┤\n",
       "│ dense_1 (<span style=\"color: #0087ff; text-decoration-color: #0087ff\">Dense</span>)                      │ ?                           │     <span style=\"color: #00af00; text-decoration-color: #00af00\">0</span> (unbuilt) │\n",
       "└──────────────────────────────────────┴─────────────────────────────┴─────────────────┘\n",
       "</pre>\n"
      ],
      "text/plain": [
       "┏━━━━━━━━━━━━━━━━━━━━━━━━━━━━━━━━━━━━━━┳━━━━━━━━━━━━━━━━━━━━━━━━━━━━━┳━━━━━━━━━━━━━━━━━┓\n",
       "┃\u001b[1m \u001b[0m\u001b[1mLayer (type)                        \u001b[0m\u001b[1m \u001b[0m┃\u001b[1m \u001b[0m\u001b[1mOutput Shape               \u001b[0m\u001b[1m \u001b[0m┃\u001b[1m \u001b[0m\u001b[1m        Param #\u001b[0m\u001b[1m \u001b[0m┃\n",
       "┡━━━━━━━━━━━━━━━━━━━━━━━━━━━━━━━━━━━━━━╇━━━━━━━━━━━━━━━━━━━━━━━━━━━━━╇━━━━━━━━━━━━━━━━━┩\n",
       "│ embedding (\u001b[38;5;33mEmbedding\u001b[0m)                │ ?                           │     \u001b[38;5;34m0\u001b[0m (unbuilt) │\n",
       "├──────────────────────────────────────┼─────────────────────────────┼─────────────────┤\n",
       "│ bidirectional (\u001b[38;5;33mBidirectional\u001b[0m)        │ ?                           │     \u001b[38;5;34m0\u001b[0m (unbuilt) │\n",
       "├──────────────────────────────────────┼─────────────────────────────┼─────────────────┤\n",
       "│ dropout (\u001b[38;5;33mDropout\u001b[0m)                    │ ?                           │               \u001b[38;5;34m0\u001b[0m │\n",
       "├──────────────────────────────────────┼─────────────────────────────┼─────────────────┤\n",
       "│ bidirectional_1 (\u001b[38;5;33mBidirectional\u001b[0m)      │ ?                           │     \u001b[38;5;34m0\u001b[0m (unbuilt) │\n",
       "├──────────────────────────────────────┼─────────────────────────────┼─────────────────┤\n",
       "│ dropout_1 (\u001b[38;5;33mDropout\u001b[0m)                  │ ?                           │               \u001b[38;5;34m0\u001b[0m │\n",
       "├──────────────────────────────────────┼─────────────────────────────┼─────────────────┤\n",
       "│ dense (\u001b[38;5;33mDense\u001b[0m)                        │ ?                           │     \u001b[38;5;34m0\u001b[0m (unbuilt) │\n",
       "├──────────────────────────────────────┼─────────────────────────────┼─────────────────┤\n",
       "│ dropout_2 (\u001b[38;5;33mDropout\u001b[0m)                  │ ?                           │               \u001b[38;5;34m0\u001b[0m │\n",
       "├──────────────────────────────────────┼─────────────────────────────┼─────────────────┤\n",
       "│ dense_1 (\u001b[38;5;33mDense\u001b[0m)                      │ ?                           │     \u001b[38;5;34m0\u001b[0m (unbuilt) │\n",
       "└──────────────────────────────────────┴─────────────────────────────┴─────────────────┘\n"
      ]
     },
     "metadata": {},
     "output_type": "display_data"
    },
    {
     "data": {
      "text/html": [
       "<pre style=\"white-space:pre;overflow-x:auto;line-height:normal;font-family:Menlo,'DejaVu Sans Mono',consolas,'Courier New',monospace\"><span style=\"font-weight: bold\"> Total params: </span><span style=\"color: #00af00; text-decoration-color: #00af00\">0</span> (0.00 B)\n",
       "</pre>\n"
      ],
      "text/plain": [
       "\u001b[1m Total params: \u001b[0m\u001b[38;5;34m0\u001b[0m (0.00 B)\n"
      ]
     },
     "metadata": {},
     "output_type": "display_data"
    },
    {
     "data": {
      "text/html": [
       "<pre style=\"white-space:pre;overflow-x:auto;line-height:normal;font-family:Menlo,'DejaVu Sans Mono',consolas,'Courier New',monospace\"><span style=\"font-weight: bold\"> Trainable params: </span><span style=\"color: #00af00; text-decoration-color: #00af00\">0</span> (0.00 B)\n",
       "</pre>\n"
      ],
      "text/plain": [
       "\u001b[1m Trainable params: \u001b[0m\u001b[38;5;34m0\u001b[0m (0.00 B)\n"
      ]
     },
     "metadata": {},
     "output_type": "display_data"
    },
    {
     "data": {
      "text/html": [
       "<pre style=\"white-space:pre;overflow-x:auto;line-height:normal;font-family:Menlo,'DejaVu Sans Mono',consolas,'Courier New',monospace\"><span style=\"font-weight: bold\"> Non-trainable params: </span><span style=\"color: #00af00; text-decoration-color: #00af00\">0</span> (0.00 B)\n",
       "</pre>\n"
      ],
      "text/plain": [
       "\u001b[1m Non-trainable params: \u001b[0m\u001b[38;5;34m0\u001b[0m (0.00 B)\n"
      ]
     },
     "metadata": {},
     "output_type": "display_data"
    }
   ],
   "source": [
    "model.summary()"
   ]
  },
  {
   "cell_type": "markdown",
   "id": "e6ed7d85-e4c5-43ab-9c0b-6b90da361ec6",
   "metadata": {},
   "source": [
    "## VI stage. Model compiling & fitting.¶\n",
    "\n",
    "This stage allows you to train your model, but firstly, you should set some hyperparameters & other variable values, such as batch size, the number of epochs for training, the types of optimizer & loss function. You can change all or a part of them during your research. Fitting process takes some time.\n",
    "\n",
    "Replace ##YOUR CODE GOES HERE## with your Python code."
   ]
  },
  {
   "cell_type": "code",
   "execution_count": 34,
   "id": "1c12d701-57df-421e-82c4-4ce818f66a87",
   "metadata": {},
   "outputs": [],
   "source": [
    "import numpy as np\n",
    "from tensorflow.keras.utils import Sequence\n",
    "\n",
    "class B_Generator(Sequence):\n",
    "    def __init__(self, batch_size, X, Y, encoder):\n",
    "        self.batch_size = batch_size\n",
    "        self.X = X\n",
    "        self.Y = Y\n",
    "        self.encoder = encoder\n",
    "        self.n_b = int(np.ceil(len(X) / batch_size))  # Number of batches per epoch\n",
    "\n",
    "    def __len__(self):\n",
    "        # Returns the number of batches per epoch\n",
    "        return self.n_b\n",
    "\n",
    "    def __getitem__(self, index):\n",
    "        # Generate a single batch of data\n",
    "        start = index * self.batch_size\n",
    "        end = min((index + 1) * self.batch_size, len(self.X))\n",
    "        batch_X = self.X[start:end]\n",
    "        batch_Y = self.Y[start:end]\n",
    "        return batch_X, self.encoder.transform(batch_Y.reshape(-1, 1)).toarray()\n",
    "\n",
    "    def on_epoch_end(self):\n",
    "        # Optional: Shuffle data at the end of each epoch\n",
    "        indices = np.arange(len(self.X))\n",
    "        np.random.shuffle(indices)\n",
    "        self.X = self.X[indices]\n",
    "        self.Y = self.Y[indices]\n"
   ]
  },
  {
   "cell_type": "markdown",
   "id": "085432be-2220-4785-8fec-275726b96a64",
   "metadata": {},
   "source": [
    "## VII stage. Results visualization.\n",
    "\n",
    "\n",
    "\n",
    "\n",
    "\n",
    "\n",
    "You see the results of training for the loss & accuracy."
   ]
  },
  {
   "cell_type": "code",
   "execution_count": 48,
   "id": "0d0d4af0-abe4-4423-a304-91dacbdb65b8",
   "metadata": {},
   "outputs": [
    {
     "name": "stdout",
     "output_type": "stream",
     "text": [
      "Stage VI. Compile and fit the model\n",
      "\n",
      "Epoch 1/10\n",
      "\u001b[1m335/335\u001b[0m \u001b[32m━━━━━━━━━━━━━━━━━━━━\u001b[0m\u001b[37m\u001b[0m \u001b[1m38s\u001b[0m 80ms/step - accuracy: 0.2834 - loss: 6.1825\n",
      "Epoch 2/10\n",
      "\u001b[1m335/335\u001b[0m \u001b[32m━━━━━━━━━━━━━━━━━━━━\u001b[0m\u001b[37m\u001b[0m \u001b[1m26s\u001b[0m 78ms/step - accuracy: 0.3232 - loss: 5.2494\n",
      "Epoch 3/10\n",
      "\u001b[1m335/335\u001b[0m \u001b[32m━━━━━━━━━━━━━━━━━━━━\u001b[0m\u001b[37m\u001b[0m \u001b[1m25s\u001b[0m 75ms/step - accuracy: 0.3330 - loss: 4.8788\n",
      "Epoch 4/10\n",
      "\u001b[1m335/335\u001b[0m \u001b[32m━━━━━━━━━━━━━━━━━━━━\u001b[0m\u001b[37m\u001b[0m \u001b[1m25s\u001b[0m 74ms/step - accuracy: 0.3400 - loss: 4.5827\n",
      "Epoch 5/10\n",
      "\u001b[1m335/335\u001b[0m \u001b[32m━━━━━━━━━━━━━━━━━━━━\u001b[0m\u001b[37m\u001b[0m \u001b[1m25s\u001b[0m 75ms/step - accuracy: 0.3413 - loss: 4.3523\n",
      "Epoch 6/10\n",
      "\u001b[1m335/335\u001b[0m \u001b[32m━━━━━━━━━━━━━━━━━━━━\u001b[0m\u001b[37m\u001b[0m \u001b[1m25s\u001b[0m 75ms/step - accuracy: 0.3461 - loss: 4.1289\n",
      "Epoch 7/10\n",
      "\u001b[1m335/335\u001b[0m \u001b[32m━━━━━━━━━━━━━━━━━━━━\u001b[0m\u001b[37m\u001b[0m \u001b[1m25s\u001b[0m 75ms/step - accuracy: 0.3490 - loss: 3.9583\n",
      "Epoch 8/10\n",
      "\u001b[1m335/335\u001b[0m \u001b[32m━━━━━━━━━━━━━━━━━━━━\u001b[0m\u001b[37m\u001b[0m \u001b[1m25s\u001b[0m 75ms/step - accuracy: 0.3540 - loss: 3.8137\n",
      "Epoch 9/10\n",
      "\u001b[1m335/335\u001b[0m \u001b[32m━━━━━━━━━━━━━━━━━━━━\u001b[0m\u001b[37m\u001b[0m \u001b[1m25s\u001b[0m 75ms/step - accuracy: 0.3558 - loss: 3.7067\n",
      "Epoch 10/10\n",
      "\u001b[1m335/335\u001b[0m \u001b[32m━━━━━━━━━━━━━━━━━━━━\u001b[0m\u001b[37m\u001b[0m \u001b[1m25s\u001b[0m 76ms/step - accuracy: 0.3581 - loss: 3.6343\n",
      "Stage VII. Results visualization\n",
      "\n"
     ]
    },
    {
     "data": {
      "image/png": "[encoded data removed]",
      "text/plain": [
       "<Figure size 1200x500 with 2 Axes>"
      ]
     },
     "metadata": {},
     "output_type": "display_data"
    }
   ],
   "source": [
    "print(\"Stage VI. Compile and fit the model\\n\")\n",
    "\n",
    "batch_size = 512\n",
    "n_epochs = 10\n",
    "\n",
    "optim = tf.keras.optimizers.Nadam()\n",
    "loss_f = tf.keras.losses.CategoricalCrossentropy()\n",
    "\n",
    "# Create the data generator\n",
    "T_data = B_Generator(batch_size, np.asarray(X), np.asarray(seq_Y), OHE)\n",
    "\n",
    "# Compile the model\n",
    "model.compile(loss=loss_f,\n",
    "              optimizer=optim,\n",
    "              metrics=[\"accuracy\"])\n",
    "\n",
    "try:\n",
    "    # Train the model and capture history\n",
    "    history = model.fit(\n",
    "        T_data,\n",
    "        steps_per_epoch=T_data.n_b,\n",
    "        epochs=n_epochs,\n",
    "        verbose=1\n",
    "    )\n",
    "except Exception as e:\n",
    "    print(f\"Error during training: {e}\")\n",
    "    history = None\n",
    "\n",
    "# Plot the results if training was successful\n",
    "if history:\n",
    "    print(\"Stage VII. Results visualization\\n\")\n",
    "    plot_history(history)\n",
    "else:\n",
    "    print(\"Error: No training history available.\")\n"
   ]
  },
  {
   "cell_type": "code",
   "execution_count": 49,
   "id": "6045024b-8f4a-4523-b0e0-adc7eb9cc3a2",
   "metadata": {},
   "outputs": [
    {
     "name": "stdout",
     "output_type": "stream",
     "text": [
      "Stage VII. Results visualization\n",
      "\n"
     ]
    },
    {
     "data": {
      "image/png": "[encoded data removed]",
      "text/plain": [
       "<Figure size 1200x500 with 2 Axes>"
      ]
     },
     "metadata": {},
     "output_type": "display_data"
    },
    {
     "ename": "AttributeError",
     "evalue": "'NoneType' object has no attribute 'history'",
     "output_type": "error",
     "traceback": [
      "\u001b[1;31m---------------------------------------------------------------------------\u001b[0m",
      "\u001b[1;31mAttributeError\u001b[0m                            Traceback (most recent call last)",
      "Cell \u001b[1;32mIn[49], line 2\u001b[0m\n\u001b[0;32m      1\u001b[0m \u001b[38;5;28mprint\u001b[39m(\u001b[38;5;124m\"\u001b[39m\u001b[38;5;124mStage VII. Results visualization\u001b[39m\u001b[38;5;130;01m\\n\u001b[39;00m\u001b[38;5;124m\"\u001b[39m)\n\u001b[1;32m----> 2\u001b[0m plot_history(plot_history(history))\n",
      "Cell \u001b[1;32mIn[47], line 5\u001b[0m, in \u001b[0;36mplot_history\u001b[1;34m(history)\u001b[0m\n\u001b[0;32m      3\u001b[0m \u001b[38;5;28;01mdef\u001b[39;00m \u001b[38;5;21mplot_history\u001b[39m(history):\n\u001b[0;32m      4\u001b[0m     \u001b[38;5;66;03m# Extract metrics from history\u001b[39;00m\n\u001b[1;32m----> 5\u001b[0m     acc \u001b[38;5;241m=\u001b[39m history\u001b[38;5;241m.\u001b[39mhistory\u001b[38;5;241m.\u001b[39mget(\u001b[38;5;124m'\u001b[39m\u001b[38;5;124maccuracy\u001b[39m\u001b[38;5;124m'\u001b[39m, [])\n\u001b[0;32m      6\u001b[0m     loss \u001b[38;5;241m=\u001b[39m history\u001b[38;5;241m.\u001b[39mhistory\u001b[38;5;241m.\u001b[39mget(\u001b[38;5;124m'\u001b[39m\u001b[38;5;124mloss\u001b[39m\u001b[38;5;124m'\u001b[39m, [])\n\u001b[0;32m      7\u001b[0m     epochs \u001b[38;5;241m=\u001b[39m \u001b[38;5;28mrange\u001b[39m(\u001b[38;5;241m1\u001b[39m, \u001b[38;5;28mlen\u001b[39m(acc) \u001b[38;5;241m+\u001b[39m \u001b[38;5;241m1\u001b[39m)\n",
      "\u001b[1;31mAttributeError\u001b[0m: 'NoneType' object has no attribute 'history'"
     ]
    }
   ],
   "source": [
    "print(\"Stage VII. Results visualization\\n\")\n",
    "plot_history(plot_history(history))"
   ]
  },
  {
   "cell_type": "code",
   "execution_count": 50,
   "id": "f4b8d1c6-2e6d-409d-b1b9-0e1f77e642b8",
   "metadata": {},
   "outputs": [],
   "source": [
    "import matplotlib.pyplot as plt\n",
    "\n",
    "def plot_history(history):\n",
    "    # Extract metrics from history\n",
    "    acc = history.history.get('accuracy', [])\n",
    "    loss = history.history.get('loss', [])\n",
    "    epochs = range(1, len(acc) + 1)\n",
    "    \n",
    "    # Plot Accuracy\n",
    "    plt.figure(figsize=(12, 5))\n",
    "    plt.subplot(1, 2, 1)\n",
    "    plt.plot(epochs, acc, label='Accuracy')\n",
    "    plt.title('Training Accuracy')\n",
    "    plt.xlabel('Epochs')\n",
    "    plt.ylabel('Accuracy')\n",
    "    plt.legend()\n",
    "    \n",
    "    # Plot Loss\n",
    "    plt.subplot(1, 2, 2)\n",
    "    plt.plot(epochs, loss, label='Loss')\n",
    "    plt.title('Training Loss')\n",
    "    plt.xlabel('Epochs')\n",
    "    plt.ylabel('Loss')\n",
    "    plt.legend()\n",
    "    \n",
    "    plt.tight_layout()\n",
    "    plt.show()\n"
   ]
  },
  {
   "cell_type": "markdown",
   "id": "d04e8640-5726-4c50-aa64-95ce9efd846c",
   "metadata": {},
   "source": [
    "\n",
    "## VIII stage. Model saving & prediction checking.¶\n",
    "\n",
    "We still have two steps to do. The first is to save our trained model so that we can use it in the further research. The second is to check our saved model and try to make a prediction.\n",
    "\n",
    "You can enter any name of your model for saving, but make sure that it is in quotes."
   ]
  },
  {
   "cell_type": "code",
   "execution_count": 52,
   "id": "12232fcb-d0d7-40ef-879f-fa2fe751a80d",
   "metadata": {},
   "outputs": [
    {
     "name": "stdout",
     "output_type": "stream",
     "text": [
      "Stage VIII. Model saving & prediction checking\n",
      "\n",
      "Size of the saved model: 9192513 bytes\n"
     ]
    }
   ],
   "source": [
    "import os\n",
    "print(\"Stage VIII. Model saving & prediction checking\\n\")\n",
    "\n",
    "M_name = \"My_model\"\n",
    "filepath = M_name + '.keras'  # Save using the new Keras format\n",
    "tf.keras.models.save_model(model, filepath, include_optimizer=True, overwrite=True)\n",
    "\n",
    "print(\"Size of the saved model:\", os.stat(filepath).st_size, \"bytes\")\n"
   ]
  },
  {
   "cell_type": "code",
   "execution_count": 54,
   "id": "5674eab9-14e6-47f1-ac9e-3ec1dd45bc7b",
   "metadata": {},
   "outputs": [
    {
     "name": "stdout",
     "output_type": "stream",
     "text": [
      "\u001b[1m335/335\u001b[0m \u001b[32m━━━━━━━━━━━━━━━━━━━━\u001b[0m\u001b[37m\u001b[0m \u001b[1m10s\u001b[0m 26ms/step\n",
      "Dimensionality sizes of model predicts: (171350, 4201) \n",
      "\n",
      "Compare with length of X & Y sets:\t 171350 \n",
      "and with number of tokens:\t\t 4201\n"
     ]
    }
   ],
   "source": [
    "# Load the saved model\n",
    "model_L = tf.keras.models.load_model(filepath)\n",
    "\n",
    "# Predict using the loaded model\n",
    "predicts = model_L.predict(X, batch_size=batch_size)\n",
    "\n",
    "# Output the dimensionality of the predictions\n",
    "print(\"Dimensionality sizes of model predicts:\", predicts.shape, \"\\n\")\n",
    "print(\"Compare with length of X & Y sets:\\t\", len(seq_X), \"\\nand with number of tokens:\\t\\t\", len(U_tokens))\n"
   ]
  },
  {
   "cell_type": "code",
   "execution_count": null,
   "id": "3d4857af-dcb8-4b25-98cf-882e31e7bf6b",
   "metadata": {},
   "outputs": [],
   "source": []
  }
 ],
 "metadata": {
  "kernelspec": {
   "display_name": "Python 3 (ipykernel)",
   "language": "python",
   "name": "python3"
  },
  "language_info": {
   "codemirror_mode": {
    "name": "ipython",
    "version": 3
   },
   "file_extension": ".py",
   "mimetype": "text/x-python",
   "name": "python",
   "nbconvert_exporter": "python",
   "pygments_lexer": "ipython3",
   "version": "3.12.3"
  }
 },
 "nbformat": 4,
 "nbformat_minor": 5
}
